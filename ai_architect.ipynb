{
  "nbformat": 4,
  "nbformat_minor": 0,
  "metadata": {
    "colab": {
      "provenance": [],
      "authorship_tag": "ABX9TyMxL52y9JPPlqMZ9NXkwjYG"
    },
    "kernelspec": {
      "name": "python3",
      "display_name": "Python 3"
    },
    "language_info": {
      "name": "python"
    }
  },
  "cells": [
    {
      "cell_type": "markdown",
      "source": [],
      "metadata": {
        "id": "9M2EmssuALEQ"
      }
    },
    {
      "cell_type": "code",
      "source": [
        "!pip install python-docx==0.8.11"
      ],
      "metadata": {
        "colab": {
          "base_uri": "https://localhost:8080/"
        },
        "id": "TDBkTUxbAKc8",
        "outputId": "a18ec307-7d35-48f1-b6a4-74cb364b56c5"
      },
      "execution_count": 2,
      "outputs": [
        {
          "output_type": "stream",
          "name": "stdout",
          "text": [
            "Collecting python-docx==0.8.11\n",
            "  Downloading python-docx-0.8.11.tar.gz (5.6 MB)\n",
            "\u001b[?25l     \u001b[90m━━━━━━━━━━━━━━━━━━━━━━━━━━━━━━━━━━━━━━━━\u001b[0m \u001b[32m0.0/5.6 MB\u001b[0m \u001b[31m?\u001b[0m eta \u001b[36m-:--:--\u001b[0m\r\u001b[2K     \u001b[91m━━━━━\u001b[0m\u001b[90m╺\u001b[0m\u001b[90m━━━━━━━━━━━━━━━━━━━━━━━━━━━━━━━━━━\u001b[0m \u001b[32m0.8/5.6 MB\u001b[0m \u001b[31m22.6 MB/s\u001b[0m eta \u001b[36m0:00:01\u001b[0m\r\u001b[2K     \u001b[91m━━━━━━━━━━━━━━━━━━━━━━━━━━━━━━━━━━━━━━━\u001b[0m\u001b[91m╸\u001b[0m \u001b[32m5.6/5.6 MB\u001b[0m \u001b[31m85.9 MB/s\u001b[0m eta \u001b[36m0:00:01\u001b[0m\r\u001b[2K     \u001b[90m━━━━━━━━━━━━━━━━━━━━━━━━━━━━━━━━━━━━━━━━\u001b[0m \u001b[32m5.6/5.6 MB\u001b[0m \u001b[31m59.5 MB/s\u001b[0m eta \u001b[36m0:00:00\u001b[0m\n",
            "\u001b[?25h  Preparing metadata (setup.py) ... \u001b[?25l\u001b[?25hdone\n",
            "Requirement already satisfied: lxml>=2.3.2 in /usr/local/lib/python3.10/dist-packages (from python-docx==0.8.11) (5.3.0)\n",
            "Building wheels for collected packages: python-docx\n",
            "  Building wheel for python-docx (setup.py) ... \u001b[?25l\u001b[?25hdone\n",
            "  Created wheel for python-docx: filename=python_docx-0.8.11-py3-none-any.whl size=184488 sha256=d02f9f1916766deb2d53d33b7869c246a58d0e06a46b054e941e91f466c34ca8\n",
            "  Stored in directory: /root/.cache/pip/wheels/80/27/06/837436d4c3bd989b957a91679966f207bfd71d358d63a8194d\n",
            "Successfully built python-docx\n",
            "Installing collected packages: python-docx\n",
            "Successfully installed python-docx-0.8.11\n"
          ]
        }
      ]
    },
    {
      "cell_type": "code",
      "source": [
        "import os\n",
        "from google.colab import userdata\n",
        "import google.generativeai as genai\n",
        "from typing import Tuple\n",
        "from docx import Document\n",
        "from google.colab import drive"
      ],
      "metadata": {
        "id": "gd5G6UQ3mRs0"
      },
      "execution_count": 3,
      "outputs": []
    },
    {
      "cell_type": "code",
      "source": [
        "drive.mount('/content/drive')"
      ],
      "metadata": {
        "colab": {
          "base_uri": "https://localhost:8080/"
        },
        "id": "ZO2Ps0vEy0X8",
        "outputId": "0aa35529-1d42-433a-e9c9-54421b5e5c1e"
      },
      "execution_count": 4,
      "outputs": [
        {
          "output_type": "stream",
          "name": "stdout",
          "text": [
            "Mounted at /content/drive\n"
          ]
        }
      ]
    },
    {
      "cell_type": "code",
      "source": [
        "class AIArchitect:\n",
        "\n",
        "    def __init__(self):\n",
        "      try:\n",
        "        api_key = userdata.get('GOOGLE_API_KEY')\n",
        "        genai.configure(api_key=api_key)\n",
        "        self.model = genai.GenerativeModel('gemini-1.5-flash')\n",
        "        self.history = []\n",
        "      except Exception as e:\n",
        "        print(\"Error accessing API key from Colab secrets. Please ensure:\")\n",
        "        print(\"1. You've added a secret named 'GOOGLE_AI_KEY'\")\n",
        "        print(\"2. The secret contains a valid Google AI API key\")\n",
        "        raise\n",
        "      self.history = []\n",
        "      self.question = \"\"\n",
        "\n",
        "    def ask(self) -> str:\n",
        "      if self.question == \"\":\n",
        "        self.question = \"Please describe the system you want to build and its key functionalities.\"\n",
        "        print(f\"\\nAI Architect: {self.question}\")\n",
        "        return input(\"You: \")\n",
        "      else:\n",
        "        print(f\"\\nAI Architect: {self.question}\")\n",
        "        return input(\"You (or enter 'g' to generate a design doc): \")\n",
        "\n",
        "    def connect(self, answer: str) -> bool:\n",
        "\n",
        "      if answer.lower() == 'g':\n",
        "          return False\n",
        "\n",
        "      self.history.append(\"AI Architect: \" + self.question)\n",
        "      self.history.append(\"User: \" + answer)\n",
        "\n",
        "      summary_prompt = f\"\"\"Analyze the conversation history and extract the top 5 most crucial design decisions made so far.\n",
        "\n",
        "      Conversation History:\n",
        "      {chr(10).join(self.history)}\n",
        "\n",
        "      If fewer than 5 key decisions have been made, list only those available. Present them as a numbered list.\"\"\"\n",
        "\n",
        "      summary_response = self.model.generate_content(summary_prompt)\n",
        "\n",
        "      # Generate a targeted follow-up question based on previous context\n",
        "      question_prompt = f\"\"\"Based on the previous context:\n",
        "\n",
        "      {chr(10).join(self.history)}\n",
        "\n",
        "      Generate a concise, high-level question to further clarify the software architecture.\"\"\"\n",
        "\n",
        "      question_response = self.model.generate_content(question_prompt)\n",
        "      self.question = question_response.text\n",
        "\n",
        "      print(\"\\n--- CURRENT DESIGN STATE ---\\n\")\n",
        "      print(summary_response.text)\n",
        "      print(\"----------------------------\")\n",
        "\n",
        "      return True\n",
        "\n",
        "    def design(self) -> str:\n",
        "        design_prompt = f\"\"\"Based on the following conversation history about the software architecture:\n",
        "\n",
        "        {chr(10).join(self.history)}\n",
        "\n",
        "        Create a professional, structured software architecture design document that includes:\n",
        "        1. System Architecture Diagram\n",
        "        2. Component Descriptions\n",
        "        3. Communication and Interactions\n",
        "        4. Technology Choices and Rationale\n",
        "        5. Open Questions\n",
        "\n",
        "        Be comprehensive and detailed.\"\"\"\n",
        "\n",
        "        design_response = self.model.generate_content(design_prompt)\n",
        "        return design_response.text\n",
        "\n",
        "    def save(self, design_doc: str, file_path: str):\n",
        "        doc = Document()\n",
        "        title = input(\"Document Title: \")\n",
        "        doc.add_heading(title, 0)\n",
        "\n",
        "        for line in design_doc.split('\\n'):\n",
        "            line = line.strip()\n",
        "\n",
        "            if line.startswith('##'):\n",
        "                # Add heading level 2\n",
        "                doc.add_heading(line.lstrip('#').strip(), level=2)\n",
        "\n",
        "            elif line.startswith('#'):\n",
        "                # Add heading level 1\n",
        "                doc.add_heading(line.lstrip('#').strip(), level=1)\n",
        "\n",
        "            elif line.startswith('* '):\n",
        "                # Add bulleted list item\n",
        "                doc.add_paragraph(line.lstrip('* '), style='List Bullet')\n",
        "\n",
        "            elif line.startswith('```') and line.endswith('```'):\n",
        "                # Add code block\n",
        "                p = doc.add_paragraph()\n",
        "                code_run = p.add_run(line.strip('`'))\n",
        "                code_run.font.name = 'Courier New'  # Or any other monospace font\n",
        "                p.style = 'Intense Quote'  # Apply a code block style\n",
        "\n",
        "            else:\n",
        "                # Handle inline bolding and regular paragraphs\n",
        "                p = doc.add_paragraph()\n",
        "\n",
        "                # Split the line to handle inline bolding\n",
        "                parts = line.split('**')\n",
        "                for i, part in enumerate(parts):\n",
        "                    if part:  # Skip empty strings\n",
        "                        if i % 2 == 0:\n",
        "                            # Normal text\n",
        "                            p.add_run(part)\n",
        "                        else:\n",
        "                            # Bold text\n",
        "                            bold_run = p.add_run(part)\n",
        "                            bold_run.bold = True\n",
        "\n",
        "                # If the line was empty after processing, skip adding a paragraph\n",
        "                if line and not p.runs:\n",
        "                    doc.add_paragraph(line)\n",
        "\n",
        "        doc.save(file_path)\n",
        "        print(f\"\\n--- FINAL DESIGN DOCUMENT SAVED TO {file_path} ---\\n\")\n",
        "\n",
        "    def run(self):\n",
        "\n",
        "        while True:\n",
        "            user_answer = self.ask()\n",
        "\n",
        "            should_continue = self.connect(user_answer)\n",
        "\n",
        "            if not should_continue:\n",
        "                break\n",
        "\n",
        "        final_design_doc = self.design()\n",
        "\n",
        "        save_path = '/content/drive/My Drive/design_doc.docx'\n",
        "        self.save(final_design_doc, save_path)\n",
        "\n",
        "        return"
      ],
      "metadata": {
        "id": "9u0vRH3KhnOn"
      },
      "execution_count": 54,
      "outputs": []
    },
    {
      "cell_type": "code",
      "source": [
        "ai_architect = AIArchitect()\n",
        "ai_architect.run()"
      ],
      "metadata": {
        "colab": {
          "base_uri": "https://localhost:8080/",
          "height": 1000
        },
        "id": "sqkAgpDHn9xF",
        "outputId": "7901a69b-3823-4df5-8c5f-42140094f90d"
      },
      "execution_count": 55,
      "outputs": [
        {
          "output_type": "stream",
          "name": "stdout",
          "text": [
            "\n",
            "AI Architect: Please describe the system you want to build and its key functionalities.\n",
            "You: I want to build a platform that connects dog owners to local dog walkers.\n",
            "\n",
            "--- CURRENT DESIGN STATE ---\n",
            "\n",
            "Only one crucial design decision has been made so far:\n",
            "\n",
            "1. **Platform Purpose:** The platform will connect dog owners with local dog walkers.  This defines the core function and target users of the system.\n",
            "\n",
            "----------------------------\n",
            "\n",
            "AI Architect: Should this platform be a web application, mobile application, or both?\n",
            "\n",
            "You (or enter 'g' to generate a design doc): It should be a web application.\n",
            "\n",
            "--- CURRENT DESIGN STATE ---\n",
            "\n",
            "Only two crucial design decisions have been made so far:\n",
            "\n",
            "1. **Platform Purpose:** The platform will connect dog owners to local dog walkers.  This defines the core functionality and target audience.\n",
            "\n",
            "2. **Platform Type:** The platform will be a web application, not a mobile application or both. This significantly impacts the development approach and user experience.\n",
            "\n",
            "----------------------------\n",
            "\n",
            "AI Architect: What are the key performance and scalability requirements for the web application (e.g., expected number of users, concurrent users, data volume)?\n",
            "\n",
            "You (or enter 'g' to generate a design doc): I expect about 200 users per month.\n",
            "\n",
            "--- CURRENT DESIGN STATE ---\n",
            "\n",
            "Based on the conversation, here are the top 2 crucial design decisions made so far:\n",
            "\n",
            "1. **Platform Type:** The decision to build a web application instead of a mobile application or both. This significantly impacts the development process, technologies used, and user experience.\n",
            "\n",
            "2. **Initial User Scale:**  The estimated number of users (200 per month). This informs decisions regarding server capacity, database size, and overall system architecture.  While seemingly small, it still guides early development choices and prevents over-engineering at this stage.\n",
            "\n",
            "----------------------------\n",
            "\n",
            "AI Architect: Given the low projected user volume (200 users/month),  should we prioritize a simple, cost-effective architecture over a highly scalable one?\n",
            "\n",
            "You (or enter 'g' to generate a design doc): Yes.\n",
            "\n",
            "--- CURRENT DESIGN STATE ---\n",
            "\n",
            "1. **Platform Type:** The decision to build a web application instead of a mobile application or both.\n",
            "\n",
            "2. **Target User Volume:**  Defining the expected user base as approximately 200 users per month.\n",
            "\n",
            "3. **Architecture Prioritization:**  Choosing a simple, cost-effective architecture over a highly scalable one due to the low projected user volume.  This implicitly includes decisions about technology stack and infrastructure.\n",
            "\n",
            "Only three crucial design decisions have been explicitly made in the conversation history provided.\n",
            "\n",
            "----------------------------\n",
            "\n",
            "AI Architect: Given the prioritization of simplicity and cost-effectiveness, what essential features should be included in a Minimum Viable Product (MVP)?\n",
            "\n",
            "You (or enter 'g' to generate a design doc): g\n",
            "Document Title: Design Doc for Dog Walking Service\n",
            "\n",
            "--- FINAL DESIGN DOCUMENT SAVED TO /content/drive/My Drive/design_doc.docx ---\n",
            "\n"
          ]
        }
      ]
    }
  ]
}