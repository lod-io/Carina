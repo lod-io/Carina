{
  "nbformat": 4,
  "nbformat_minor": 0,
  "metadata": {
    "colab": {
      "provenance": []
    },
    "kernelspec": {
      "name": "python3",
      "display_name": "Python 3"
    },
    "language_info": {
      "name": "python"
    }
  },
  "cells": [
    {
      "cell_type": "markdown",
      "source": [],
      "metadata": {
        "id": "9M2EmssuALEQ"
      }
    },
    {
      "cell_type": "code",
      "source": [
        "!pip install python-docx==0.8.11"
      ],
      "metadata": {
        "colab": {
          "base_uri": "https://localhost:8080/"
        },
        "id": "TDBkTUxbAKc8",
        "outputId": "a18ec307-7d35-48f1-b6a4-74cb364b56c5"
      },
      "execution_count": 2,
      "outputs": [
        {
          "output_type": "stream",
          "name": "stdout",
          "text": [
            "Collecting python-docx==0.8.11\n",
            "  Downloading python-docx-0.8.11.tar.gz (5.6 MB)\n",
            "\u001b[?25l     \u001b[90m━━━━━━━━━━━━━━━━━━━━━━━━━━━━━━━━━━━━━━━━\u001b[0m \u001b[32m0.0/5.6 MB\u001b[0m \u001b[31m?\u001b[0m eta \u001b[36m-:--:--\u001b[0m\r\u001b[2K     \u001b[91m━━━━━\u001b[0m\u001b[90m╺\u001b[0m\u001b[90m━━━━━━━━━━━━━━━━━━━━━━━━━━━━━━━━━━\u001b[0m \u001b[32m0.8/5.6 MB\u001b[0m \u001b[31m22.6 MB/s\u001b[0m eta \u001b[36m0:00:01\u001b[0m\r\u001b[2K     \u001b[91m━━━━━━━━━━━━━━━━━━━━━━━━━━━━━━━━━━━━━━━\u001b[0m\u001b[91m╸\u001b[0m \u001b[32m5.6/5.6 MB\u001b[0m \u001b[31m85.9 MB/s\u001b[0m eta \u001b[36m0:00:01\u001b[0m\r\u001b[2K     \u001b[90m━━━━━━━━━━━━━━━━━━━━━━━━━━━━━━━━━━━━━━━━\u001b[0m \u001b[32m5.6/5.6 MB\u001b[0m \u001b[31m59.5 MB/s\u001b[0m eta \u001b[36m0:00:00\u001b[0m\n",
            "\u001b[?25h  Preparing metadata (setup.py) ... \u001b[?25l\u001b[?25hdone\n",
            "Requirement already satisfied: lxml>=2.3.2 in /usr/local/lib/python3.10/dist-packages (from python-docx==0.8.11) (5.3.0)\n",
            "Building wheels for collected packages: python-docx\n",
            "  Building wheel for python-docx (setup.py) ... \u001b[?25l\u001b[?25hdone\n",
            "  Created wheel for python-docx: filename=python_docx-0.8.11-py3-none-any.whl size=184488 sha256=d02f9f1916766deb2d53d33b7869c246a58d0e06a46b054e941e91f466c34ca8\n",
            "  Stored in directory: /root/.cache/pip/wheels/80/27/06/837436d4c3bd989b957a91679966f207bfd71d358d63a8194d\n",
            "Successfully built python-docx\n",
            "Installing collected packages: python-docx\n",
            "Successfully installed python-docx-0.8.11\n"
          ]
        }
      ]
    },
    {
      "cell_type": "code",
      "source": [
        "import os\n",
        "from google.colab import userdata\n",
        "import google.generativeai as genai\n",
        "from typing import Tuple\n",
        "from docx import Document\n",
        "from google.colab import drive"
      ],
      "metadata": {
        "id": "gd5G6UQ3mRs0"
      },
      "execution_count": 3,
      "outputs": []
    },
    {
      "cell_type": "code",
      "source": [
        "drive.mount('/content/drive')"
      ],
      "metadata": {
        "colab": {
          "base_uri": "https://localhost:8080/"
        },
        "id": "ZO2Ps0vEy0X8",
        "outputId": "0aa35529-1d42-433a-e9c9-54421b5e5c1e"
      },
      "execution_count": 4,
      "outputs": [
        {
          "output_type": "stream",
          "name": "stdout",
          "text": [
            "Mounted at /content/drive\n"
          ]
        }
      ]
    },
    {
      "cell_type": "code",
      "source": [
        "class AIArchitect:\n",
        "\n",
        "    def __init__(self):\n",
        "      try:\n",
        "        api_key = userdata.get('GOOGLE_API_KEY')\n",
        "        genai.configure(api_key=api_key)\n",
        "        self.model = genai.GenerativeModel('gemini-1.5-flash')\n",
        "        self.history = []\n",
        "      except Exception as e:\n",
        "        print(\"Error accessing API key from Colab secrets. Please ensure:\")\n",
        "        print(\"1. You've added a secret named 'GOOGLE_AI_KEY'\")\n",
        "        print(\"2. The secret contains a valid Google AI API key\")\n",
        "        raise\n",
        "      self.history = []\n",
        "      self.question = \"\"\n",
        "\n",
        "    def ask(self) -> str:\n",
        "      if self.question == \"\":\n",
        "        self.question = \"Please describe the system you want to build and its key functionalities.\"\n",
        "        print(f\"\\n{self.question}\")\n",
        "        return input(\"Your response: \")\n",
        "      else:\n",
        "        print(f\"\\n{self.question}\")\n",
        "        return input(\"Your response (or enter 'g' to generate a design doc): \")\n",
        "\n",
        "    def connect(self, answer: str) -> bool:\n",
        "\n",
        "      if answer.lower() == 'g':\n",
        "          return False\n",
        "\n",
        "      self.history.append(\"AI Architect: \" + self.question)\n",
        "      self.history.append(\"User: \" + answer)\n",
        "\n",
        "      summary_prompt = f\"\"\"Analyze the conversation history and extract the top 5 most crucial design decisions made so far.\n",
        "\n",
        "      Conversation History:\n",
        "      {chr(10).join(self.history)}\n",
        "\n",
        "      If fewer than 5 key decisions have been made, list only those available. Present them as a numbered list.\"\"\"\n",
        "\n",
        "      summary_response = self.model.generate_content(summary_prompt)\n",
        "\n",
        "      # Generate a targeted follow-up question based on previous context\n",
        "      question_prompt = f\"\"\"Based on the previous context:\n",
        "\n",
        "      {chr(10).join(self.history)}\n",
        "\n",
        "      Generate a concise, high-level question to further clarify the software architecture.\"\"\"\n",
        "\n",
        "      question_response = self.model.generate_content(question_prompt)\n",
        "      self.question = question_response.text\n",
        "\n",
        "      print(\"\\n--- CURRENT DESIGN STATE ---\\n\")\n",
        "      print(summary_response.text)\n",
        "      print(\"----------------------------\")\n",
        "\n",
        "      return True\n",
        "\n",
        "    def design(self) -> str:\n",
        "        design_prompt = f\"\"\"Based on the following conversation history about the software architecture:\n",
        "\n",
        "        {chr(10).join(self.history)}\n",
        "\n",
        "        Create a professional, structured software architecture design document that includes:\n",
        "        1. System Architecture Diagram\n",
        "        2. Component Descriptions\n",
        "        3. Communication and Interactions\n",
        "        4. Technology Choices and Rationale\n",
        "        5. Open Questions\n",
        "\n",
        "        Be comprehensive and detailed.\"\"\"\n",
        "\n",
        "        design_response = self.model.generate_content(design_prompt)\n",
        "        return design_response.text\n",
        "\n",
        "    def save(self, design_doc: str, file_path: str):\n",
        "        doc = Document()\n",
        "\n",
        "        title = input(\"Document Title: \")\n",
        "        doc.add_heading(title, 0)\n",
        "\n",
        "        for line in design_doc.split('\\n'):\n",
        "          line = line.strip()\n",
        "          if line.startswith('##'):\n",
        "              # Add heading level 2\n",
        "              doc.add_heading(line.lstrip('#').strip(), level=2)\n",
        "          elif line.startswith('#'):\n",
        "              # Add heading level 1\n",
        "              doc.add_heading(line.lstrip('#').strip(), level=1)\n",
        "          elif line.startswith('**') and line.endswith('**'):\n",
        "              # Add bold paragraph\n",
        "              p = doc.add_paragraph()\n",
        "              p.add_run(line.strip('**')).bold = True\n",
        "          # elif line.startswith('```') and line.endswith('```'):\n",
        "          #     # Add code block\n",
        "          #     doc.add_paragraph(line.strip('`'), style='Code')\n",
        "          else:\n",
        "              # Add regular paragraph\n",
        "              doc.add_paragraph(line)\n",
        "\n",
        "        doc.save(file_path)\n",
        "        print(f\"\\n--- FINAL DESIGN DOCUMENT SAVED TO {file_path} ---\\n\")\n",
        "\n",
        "    def run(self):\n",
        "\n",
        "        while True:\n",
        "            user_answer = self.ask()\n",
        "\n",
        "            should_continue = self.connect(user_answer)\n",
        "\n",
        "            if not should_continue:\n",
        "                break\n",
        "\n",
        "        final_design_doc = self.design()\n",
        "\n",
        "        save_path = '/content/drive/My Drive/design_doc.docx'\n",
        "        self.save(final_design_doc, save_path)\n",
        "\n",
        "        return"
      ],
      "metadata": {
        "id": "9u0vRH3KhnOn"
      },
      "execution_count": 46,
      "outputs": []
    },
    {
      "cell_type": "code",
      "source": [
        "ai_architect = AIArchitect()\n",
        "ai_architect.run()"
      ],
      "metadata": {
        "colab": {
          "base_uri": "https://localhost:8080/",
          "height": 966
        },
        "id": "sqkAgpDHn9xF",
        "outputId": "8c7d5f04-0627-41e0-f4cd-9dfd47923b48"
      },
      "execution_count": 47,
      "outputs": [
        {
          "output_type": "stream",
          "name": "stdout",
          "text": [
            "\n",
            "Please describe the system you want to build and its key functionalities.\n",
            "Your response: I want to build a mobile app that scrapes TikTok to recommend the best local coffee shops.\n",
            "\n",
            "--- CURRENT DESIGN STATE ---\n",
            "\n",
            "Based on the provided conversation history, only one crucial design decision has been explicitly made:\n",
            "\n",
            "1. **App Functionality:** The core functionality of the app will be to scrape TikTok data and recommend local coffee shops based on that data.  This encompasses several sub-decisions implicitly, such as data source (TikTok), target audience (coffee lovers), and output (recommendations).\n",
            "\n",
            "----------------------------\n",
            "\n",
            "What data from TikTok will be scraped (e.g., video captions, hashtags, geolocation), and how will this data be processed to identify and rank local coffee shops?\n",
            "\n",
            "Your response (or enter 'g' to generate a design doc): Video transcript, comments, likes, and views will be scraped.\n",
            "\n",
            "--- CURRENT DESIGN STATE ---\n",
            "\n",
            "Based on the provided conversation history, here are the top 2 crucial design decisions made so far:\n",
            "\n",
            "1. **App Platform:** The decision to build a mobile application.  This dictates the development environment, user interface considerations, and potential limitations.\n",
            "\n",
            "2. **Data Source and Features:** The decision to scrape TikTok for data (video transcripts, comments, likes, views) to identify and rank local coffee shops. This fundamentally defines the app's core functionality and data processing requirements.\n",
            "\n",
            "\n",
            "Only two key decisions are clearly articulated in this short conversation excerpt.  More details are needed to identify additional crucial decisions.\n",
            "\n",
            "----------------------------\n",
            "\n",
            "How will you handle TikTok's API rate limits and potential changes to their data structure to ensure the app's reliability and scalability?\n",
            "\n",
            "Your response (or enter 'g' to generate a design doc): I will scrape once a week, and the rest of the reads will be from cached data.\n",
            "\n",
            "--- CURRENT DESIGN STATE ---\n",
            "\n",
            "Based on the conversation, here are the top 3 crucial design decisions made so far (fewer than 5):\n",
            "\n",
            "1. **App Purpose and Core Functionality:** The app will recommend local coffee shops based on TikTok data.  This defines the primary goal and user experience.\n",
            "\n",
            "2. **Data Sources and Scraping Strategy:** The app will scrape TikTok video transcripts, comments, likes, views, and geolocation data. This dictates the data acquisition method and the kind of information the recommendation engine will rely on.\n",
            "\n",
            "3. **Data Update Frequency and Caching:**  The app will scrape TikTok data weekly and rely on cached data for the rest of the week. This addresses data freshness versus efficiency and resource consumption.\n",
            "\n",
            "----------------------------\n",
            "\n",
            "Given weekly scraping and cached data, how will you ensure data freshness and relevance for users, considering TikTok's dynamic content?\n",
            "\n",
            "Your response (or enter 'g' to generate a design doc): g\n",
            "Document Title: Software Design Doc for Coffee Shop Recommendation by TikTok Scrape\n",
            "\n",
            "--- FINAL DESIGN DOCUMENT SAVED TO /content/drive/My Drive/design_doc.docx ---\n",
            "\n"
          ]
        }
      ]
    }
  ]
}